{
 "cells": [
  {
   "cell_type": "markdown",
   "id": "7e06e64f-4ac4-4b93-88f7-da8fd19d58d6",
   "metadata": {},
   "source": [
    "# Content Based : Movie Recommender System"
   ]
  },
  {
   "cell_type": "code",
   "execution_count": 2,
   "id": "ee11fc10-8d17-4acd-86f0-1085e33a20e6",
   "metadata": {},
   "outputs": [],
   "source": [
    "import pandas as pd\n",
    "import numpy as np"
   ]
  },
  {
   "cell_type": "code",
   "execution_count": 3,
   "id": "8cc98649-7a81-43ea-8cfc-2795a6417118",
   "metadata": {},
   "outputs": [],
   "source": [
    "data=pd.read_csv('movies.csv')"
   ]
  },
  {
   "cell_type": "code",
   "execution_count": 4,
   "id": "49bcc49f-3b79-4f2b-a822-737333276bb0",
   "metadata": {},
   "outputs": [
    {
     "data": {
      "text/html": [
       "<div>\n",
       "<style scoped>\n",
       "    .dataframe tbody tr th:only-of-type {\n",
       "        vertical-align: middle;\n",
       "    }\n",
       "\n",
       "    .dataframe tbody tr th {\n",
       "        vertical-align: top;\n",
       "    }\n",
       "\n",
       "    .dataframe thead th {\n",
       "        text-align: right;\n",
       "    }\n",
       "</style>\n",
       "<table border=\"1\" class=\"dataframe\">\n",
       "  <thead>\n",
       "    <tr style=\"text-align: right;\">\n",
       "      <th></th>\n",
       "      <th>id</th>\n",
       "      <th>title</th>\n",
       "      <th>genre</th>\n",
       "      <th>original_language</th>\n",
       "      <th>overview</th>\n",
       "      <th>popularity</th>\n",
       "      <th>release_date</th>\n",
       "      <th>vote_average</th>\n",
       "      <th>vote_count</th>\n",
       "    </tr>\n",
       "  </thead>\n",
       "  <tbody>\n",
       "    <tr>\n",
       "      <th>0</th>\n",
       "      <td>278</td>\n",
       "      <td>The Shawshank Redemption</td>\n",
       "      <td>Drama,Crime</td>\n",
       "      <td>en</td>\n",
       "      <td>Framed in the 1940s for the double murder of h...</td>\n",
       "      <td>94.075</td>\n",
       "      <td>1994-09-23</td>\n",
       "      <td>8.7</td>\n",
       "      <td>21862</td>\n",
       "    </tr>\n",
       "    <tr>\n",
       "      <th>1</th>\n",
       "      <td>19404</td>\n",
       "      <td>Dilwale Dulhania Le Jayenge</td>\n",
       "      <td>Comedy,Drama,Romance</td>\n",
       "      <td>hi</td>\n",
       "      <td>Raj is a rich, carefree, happy-go-lucky second...</td>\n",
       "      <td>25.408</td>\n",
       "      <td>1995-10-19</td>\n",
       "      <td>8.7</td>\n",
       "      <td>3731</td>\n",
       "    </tr>\n",
       "    <tr>\n",
       "      <th>2</th>\n",
       "      <td>238</td>\n",
       "      <td>The Godfather</td>\n",
       "      <td>Drama,Crime</td>\n",
       "      <td>en</td>\n",
       "      <td>Spanning the years 1945 to 1955, a chronicle o...</td>\n",
       "      <td>90.585</td>\n",
       "      <td>1972-03-14</td>\n",
       "      <td>8.7</td>\n",
       "      <td>16280</td>\n",
       "    </tr>\n",
       "    <tr>\n",
       "      <th>3</th>\n",
       "      <td>424</td>\n",
       "      <td>Schindler's List</td>\n",
       "      <td>Drama,History,War</td>\n",
       "      <td>en</td>\n",
       "      <td>The true story of how businessman Oskar Schind...</td>\n",
       "      <td>44.761</td>\n",
       "      <td>1993-12-15</td>\n",
       "      <td>8.6</td>\n",
       "      <td>12959</td>\n",
       "    </tr>\n",
       "    <tr>\n",
       "      <th>4</th>\n",
       "      <td>240</td>\n",
       "      <td>The Godfather: Part II</td>\n",
       "      <td>Drama,Crime</td>\n",
       "      <td>en</td>\n",
       "      <td>In the continuing saga of the Corleone crime f...</td>\n",
       "      <td>57.749</td>\n",
       "      <td>1974-12-20</td>\n",
       "      <td>8.6</td>\n",
       "      <td>9811</td>\n",
       "    </tr>\n",
       "    <tr>\n",
       "      <th>...</th>\n",
       "      <td>...</td>\n",
       "      <td>...</td>\n",
       "      <td>...</td>\n",
       "      <td>...</td>\n",
       "      <td>...</td>\n",
       "      <td>...</td>\n",
       "      <td>...</td>\n",
       "      <td>...</td>\n",
       "      <td>...</td>\n",
       "    </tr>\n",
       "    <tr>\n",
       "      <th>9995</th>\n",
       "      <td>10196</td>\n",
       "      <td>The Last Airbender</td>\n",
       "      <td>Action,Adventure,Fantasy</td>\n",
       "      <td>en</td>\n",
       "      <td>The story follows the adventures of Aang, a yo...</td>\n",
       "      <td>98.322</td>\n",
       "      <td>2010-06-30</td>\n",
       "      <td>4.7</td>\n",
       "      <td>3347</td>\n",
       "    </tr>\n",
       "    <tr>\n",
       "      <th>9996</th>\n",
       "      <td>331446</td>\n",
       "      <td>Sharknado 3: Oh Hell No!</td>\n",
       "      <td>Action,TV Movie,Science Fiction,Comedy,Adventure</td>\n",
       "      <td>en</td>\n",
       "      <td>The sharks take bite out of the East Coast whe...</td>\n",
       "      <td>12.490</td>\n",
       "      <td>2015-07-22</td>\n",
       "      <td>4.7</td>\n",
       "      <td>417</td>\n",
       "    </tr>\n",
       "    <tr>\n",
       "      <th>9997</th>\n",
       "      <td>13995</td>\n",
       "      <td>Captain America</td>\n",
       "      <td>Action,Science Fiction,War</td>\n",
       "      <td>en</td>\n",
       "      <td>During World War II, a brave, patriotic Americ...</td>\n",
       "      <td>18.333</td>\n",
       "      <td>1990-12-14</td>\n",
       "      <td>4.6</td>\n",
       "      <td>332</td>\n",
       "    </tr>\n",
       "    <tr>\n",
       "      <th>9998</th>\n",
       "      <td>2312</td>\n",
       "      <td>In the Name of the King: A Dungeon Siege Tale</td>\n",
       "      <td>Adventure,Fantasy,Action,Drama</td>\n",
       "      <td>en</td>\n",
       "      <td>A man named Farmer sets out to rescue his kidn...</td>\n",
       "      <td>15.159</td>\n",
       "      <td>2007-11-29</td>\n",
       "      <td>4.7</td>\n",
       "      <td>668</td>\n",
       "    </tr>\n",
       "    <tr>\n",
       "      <th>9999</th>\n",
       "      <td>455957</td>\n",
       "      <td>Domino</td>\n",
       "      <td>Thriller,Action,Crime</td>\n",
       "      <td>en</td>\n",
       "      <td>Seeking justice for his partner’s murder by an...</td>\n",
       "      <td>16.482</td>\n",
       "      <td>2019-05-31</td>\n",
       "      <td>4.6</td>\n",
       "      <td>221</td>\n",
       "    </tr>\n",
       "  </tbody>\n",
       "</table>\n",
       "<p>10000 rows × 9 columns</p>\n",
       "</div>"
      ],
      "text/plain": [
       "          id                                          title  \\\n",
       "0        278                       The Shawshank Redemption   \n",
       "1      19404                    Dilwale Dulhania Le Jayenge   \n",
       "2        238                                  The Godfather   \n",
       "3        424                               Schindler's List   \n",
       "4        240                         The Godfather: Part II   \n",
       "...      ...                                            ...   \n",
       "9995   10196                             The Last Airbender   \n",
       "9996  331446                       Sharknado 3: Oh Hell No!   \n",
       "9997   13995                                Captain America   \n",
       "9998    2312  In the Name of the King: A Dungeon Siege Tale   \n",
       "9999  455957                                         Domino   \n",
       "\n",
       "                                                 genre original_language  \\\n",
       "0                                          Drama,Crime                en   \n",
       "1                                 Comedy,Drama,Romance                hi   \n",
       "2                                          Drama,Crime                en   \n",
       "3                                    Drama,History,War                en   \n",
       "4                                          Drama,Crime                en   \n",
       "...                                                ...               ...   \n",
       "9995                          Action,Adventure,Fantasy                en   \n",
       "9996  Action,TV Movie,Science Fiction,Comedy,Adventure                en   \n",
       "9997                        Action,Science Fiction,War                en   \n",
       "9998                    Adventure,Fantasy,Action,Drama                en   \n",
       "9999                             Thriller,Action,Crime                en   \n",
       "\n",
       "                                               overview  popularity  \\\n",
       "0     Framed in the 1940s for the double murder of h...      94.075   \n",
       "1     Raj is a rich, carefree, happy-go-lucky second...      25.408   \n",
       "2     Spanning the years 1945 to 1955, a chronicle o...      90.585   \n",
       "3     The true story of how businessman Oskar Schind...      44.761   \n",
       "4     In the continuing saga of the Corleone crime f...      57.749   \n",
       "...                                                 ...         ...   \n",
       "9995  The story follows the adventures of Aang, a yo...      98.322   \n",
       "9996  The sharks take bite out of the East Coast whe...      12.490   \n",
       "9997  During World War II, a brave, patriotic Americ...      18.333   \n",
       "9998  A man named Farmer sets out to rescue his kidn...      15.159   \n",
       "9999  Seeking justice for his partner’s murder by an...      16.482   \n",
       "\n",
       "     release_date  vote_average  vote_count  \n",
       "0      1994-09-23           8.7       21862  \n",
       "1      1995-10-19           8.7        3731  \n",
       "2      1972-03-14           8.7       16280  \n",
       "3      1993-12-15           8.6       12959  \n",
       "4      1974-12-20           8.6        9811  \n",
       "...           ...           ...         ...  \n",
       "9995   2010-06-30           4.7        3347  \n",
       "9996   2015-07-22           4.7         417  \n",
       "9997   1990-12-14           4.6         332  \n",
       "9998   2007-11-29           4.7         668  \n",
       "9999   2019-05-31           4.6         221  \n",
       "\n",
       "[10000 rows x 9 columns]"
      ]
     },
     "execution_count": 4,
     "metadata": {},
     "output_type": "execute_result"
    }
   ],
   "source": [
    "data"
   ]
  },
  {
   "cell_type": "code",
   "execution_count": 5,
   "id": "a51c8aef-3e3e-4d8b-9baf-cae4cbdaa410",
   "metadata": {},
   "outputs": [
    {
     "data": {
      "text/html": [
       "<div>\n",
       "<style scoped>\n",
       "    .dataframe tbody tr th:only-of-type {\n",
       "        vertical-align: middle;\n",
       "    }\n",
       "\n",
       "    .dataframe tbody tr th {\n",
       "        vertical-align: top;\n",
       "    }\n",
       "\n",
       "    .dataframe thead th {\n",
       "        text-align: right;\n",
       "    }\n",
       "</style>\n",
       "<table border=\"1\" class=\"dataframe\">\n",
       "  <thead>\n",
       "    <tr style=\"text-align: right;\">\n",
       "      <th></th>\n",
       "      <th>id</th>\n",
       "      <th>popularity</th>\n",
       "      <th>vote_average</th>\n",
       "      <th>vote_count</th>\n",
       "    </tr>\n",
       "  </thead>\n",
       "  <tbody>\n",
       "    <tr>\n",
       "      <th>count</th>\n",
       "      <td>10000.000000</td>\n",
       "      <td>10000.000000</td>\n",
       "      <td>10000.000000</td>\n",
       "      <td>10000.000000</td>\n",
       "    </tr>\n",
       "    <tr>\n",
       "      <th>mean</th>\n",
       "      <td>161243.505000</td>\n",
       "      <td>34.697267</td>\n",
       "      <td>6.621150</td>\n",
       "      <td>1547.309400</td>\n",
       "    </tr>\n",
       "    <tr>\n",
       "      <th>std</th>\n",
       "      <td>211422.046043</td>\n",
       "      <td>211.684175</td>\n",
       "      <td>0.766231</td>\n",
       "      <td>2648.295789</td>\n",
       "    </tr>\n",
       "    <tr>\n",
       "      <th>min</th>\n",
       "      <td>5.000000</td>\n",
       "      <td>0.600000</td>\n",
       "      <td>4.600000</td>\n",
       "      <td>200.000000</td>\n",
       "    </tr>\n",
       "    <tr>\n",
       "      <th>25%</th>\n",
       "      <td>10127.750000</td>\n",
       "      <td>9.154750</td>\n",
       "      <td>6.100000</td>\n",
       "      <td>315.000000</td>\n",
       "    </tr>\n",
       "    <tr>\n",
       "      <th>50%</th>\n",
       "      <td>30002.500000</td>\n",
       "      <td>13.637500</td>\n",
       "      <td>6.600000</td>\n",
       "      <td>583.500000</td>\n",
       "    </tr>\n",
       "    <tr>\n",
       "      <th>75%</th>\n",
       "      <td>310133.500000</td>\n",
       "      <td>25.651250</td>\n",
       "      <td>7.200000</td>\n",
       "      <td>1460.000000</td>\n",
       "    </tr>\n",
       "    <tr>\n",
       "      <th>max</th>\n",
       "      <td>934761.000000</td>\n",
       "      <td>10436.917000</td>\n",
       "      <td>8.700000</td>\n",
       "      <td>31917.000000</td>\n",
       "    </tr>\n",
       "  </tbody>\n",
       "</table>\n",
       "</div>"
      ],
      "text/plain": [
       "                  id    popularity  vote_average    vote_count\n",
       "count   10000.000000  10000.000000  10000.000000  10000.000000\n",
       "mean   161243.505000     34.697267      6.621150   1547.309400\n",
       "std    211422.046043    211.684175      0.766231   2648.295789\n",
       "min         5.000000      0.600000      4.600000    200.000000\n",
       "25%     10127.750000      9.154750      6.100000    315.000000\n",
       "50%     30002.500000     13.637500      6.600000    583.500000\n",
       "75%    310133.500000     25.651250      7.200000   1460.000000\n",
       "max    934761.000000  10436.917000      8.700000  31917.000000"
      ]
     },
     "execution_count": 5,
     "metadata": {},
     "output_type": "execute_result"
    }
   ],
   "source": [
    "data.describe()"
   ]
  },
  {
   "cell_type": "code",
   "execution_count": 6,
   "id": "e48b447c-6b2f-493d-9d28-2ac2b9ed541c",
   "metadata": {},
   "outputs": [
    {
     "data": {
      "text/plain": [
       "(10000, 9)"
      ]
     },
     "execution_count": 6,
     "metadata": {},
     "output_type": "execute_result"
    }
   ],
   "source": [
    "data.shape"
   ]
  },
  {
   "cell_type": "markdown",
   "id": "b5f8e0e7-fc66-441b-9f19-5cf74ae89ac9",
   "metadata": {},
   "source": [
    "# Feature Selection Part"
   ]
  },
  {
   "cell_type": "code",
   "execution_count": 8,
   "id": "9eed8884-7437-4a6a-8873-ca515f2e040f",
   "metadata": {},
   "outputs": [
    {
     "data": {
      "text/plain": [
       "Index(['id', 'title', 'genre', 'original_language', 'overview', 'popularity',\n",
       "       'release_date', 'vote_average', 'vote_count'],\n",
       "      dtype='object')"
      ]
     },
     "execution_count": 8,
     "metadata": {},
     "output_type": "execute_result"
    }
   ],
   "source": [
    "data.columns"
   ]
  },
  {
   "cell_type": "code",
   "execution_count": 9,
   "id": "2c4fb99e-5c16-4446-be46-1d44862efb66",
   "metadata": {},
   "outputs": [
    {
     "data": {
      "text/plain": [
       "id                    0\n",
       "title                 0\n",
       "genre                 3\n",
       "original_language     0\n",
       "overview             13\n",
       "popularity            0\n",
       "release_date          0\n",
       "vote_average          0\n",
       "vote_count            0\n",
       "dtype: int64"
      ]
     },
     "execution_count": 9,
     "metadata": {},
     "output_type": "execute_result"
    }
   ],
   "source": [
    "data.isnull().sum()"
   ]
  },
  {
   "cell_type": "code",
   "execution_count": 10,
   "id": "d28fa0ec-98cb-4f19-9692-ea05c2e780ee",
   "metadata": {},
   "outputs": [],
   "source": [
    "# areas to focus will be- id, title, genre, overview"
   ]
  },
  {
   "cell_type": "code",
   "execution_count": 11,
   "id": "74ab67d7-9c7c-40c5-9e2f-973c40c7874c",
   "metadata": {},
   "outputs": [],
   "source": [
    "movies=data[['id','title','genre','overview']]"
   ]
  },
  {
   "cell_type": "code",
   "execution_count": 12,
   "id": "e68dc5f8-5d0b-45c8-ba9a-8f0b7af64bc0",
   "metadata": {},
   "outputs": [],
   "source": [
    "movies= pd.DataFrame(data=movies)"
   ]
  },
  {
   "cell_type": "code",
   "execution_count": 13,
   "id": "d4f1ac3b-e6e9-421c-8167-6b9b98879b3d",
   "metadata": {},
   "outputs": [
    {
     "data": {
      "text/html": [
       "<div>\n",
       "<style scoped>\n",
       "    .dataframe tbody tr th:only-of-type {\n",
       "        vertical-align: middle;\n",
       "    }\n",
       "\n",
       "    .dataframe tbody tr th {\n",
       "        vertical-align: top;\n",
       "    }\n",
       "\n",
       "    .dataframe thead th {\n",
       "        text-align: right;\n",
       "    }\n",
       "</style>\n",
       "<table border=\"1\" class=\"dataframe\">\n",
       "  <thead>\n",
       "    <tr style=\"text-align: right;\">\n",
       "      <th></th>\n",
       "      <th>id</th>\n",
       "      <th>title</th>\n",
       "      <th>genre</th>\n",
       "      <th>overview</th>\n",
       "    </tr>\n",
       "  </thead>\n",
       "  <tbody>\n",
       "    <tr>\n",
       "      <th>0</th>\n",
       "      <td>278</td>\n",
       "      <td>The Shawshank Redemption</td>\n",
       "      <td>Drama,Crime</td>\n",
       "      <td>Framed in the 1940s for the double murder of h...</td>\n",
       "    </tr>\n",
       "    <tr>\n",
       "      <th>1</th>\n",
       "      <td>19404</td>\n",
       "      <td>Dilwale Dulhania Le Jayenge</td>\n",
       "      <td>Comedy,Drama,Romance</td>\n",
       "      <td>Raj is a rich, carefree, happy-go-lucky second...</td>\n",
       "    </tr>\n",
       "    <tr>\n",
       "      <th>2</th>\n",
       "      <td>238</td>\n",
       "      <td>The Godfather</td>\n",
       "      <td>Drama,Crime</td>\n",
       "      <td>Spanning the years 1945 to 1955, a chronicle o...</td>\n",
       "    </tr>\n",
       "    <tr>\n",
       "      <th>3</th>\n",
       "      <td>424</td>\n",
       "      <td>Schindler's List</td>\n",
       "      <td>Drama,History,War</td>\n",
       "      <td>The true story of how businessman Oskar Schind...</td>\n",
       "    </tr>\n",
       "    <tr>\n",
       "      <th>4</th>\n",
       "      <td>240</td>\n",
       "      <td>The Godfather: Part II</td>\n",
       "      <td>Drama,Crime</td>\n",
       "      <td>In the continuing saga of the Corleone crime f...</td>\n",
       "    </tr>\n",
       "    <tr>\n",
       "      <th>...</th>\n",
       "      <td>...</td>\n",
       "      <td>...</td>\n",
       "      <td>...</td>\n",
       "      <td>...</td>\n",
       "    </tr>\n",
       "    <tr>\n",
       "      <th>9995</th>\n",
       "      <td>10196</td>\n",
       "      <td>The Last Airbender</td>\n",
       "      <td>Action,Adventure,Fantasy</td>\n",
       "      <td>The story follows the adventures of Aang, a yo...</td>\n",
       "    </tr>\n",
       "    <tr>\n",
       "      <th>9996</th>\n",
       "      <td>331446</td>\n",
       "      <td>Sharknado 3: Oh Hell No!</td>\n",
       "      <td>Action,TV Movie,Science Fiction,Comedy,Adventure</td>\n",
       "      <td>The sharks take bite out of the East Coast whe...</td>\n",
       "    </tr>\n",
       "    <tr>\n",
       "      <th>9997</th>\n",
       "      <td>13995</td>\n",
       "      <td>Captain America</td>\n",
       "      <td>Action,Science Fiction,War</td>\n",
       "      <td>During World War II, a brave, patriotic Americ...</td>\n",
       "    </tr>\n",
       "    <tr>\n",
       "      <th>9998</th>\n",
       "      <td>2312</td>\n",
       "      <td>In the Name of the King: A Dungeon Siege Tale</td>\n",
       "      <td>Adventure,Fantasy,Action,Drama</td>\n",
       "      <td>A man named Farmer sets out to rescue his kidn...</td>\n",
       "    </tr>\n",
       "    <tr>\n",
       "      <th>9999</th>\n",
       "      <td>455957</td>\n",
       "      <td>Domino</td>\n",
       "      <td>Thriller,Action,Crime</td>\n",
       "      <td>Seeking justice for his partner’s murder by an...</td>\n",
       "    </tr>\n",
       "  </tbody>\n",
       "</table>\n",
       "<p>10000 rows × 4 columns</p>\n",
       "</div>"
      ],
      "text/plain": [
       "          id                                          title  \\\n",
       "0        278                       The Shawshank Redemption   \n",
       "1      19404                    Dilwale Dulhania Le Jayenge   \n",
       "2        238                                  The Godfather   \n",
       "3        424                               Schindler's List   \n",
       "4        240                         The Godfather: Part II   \n",
       "...      ...                                            ...   \n",
       "9995   10196                             The Last Airbender   \n",
       "9996  331446                       Sharknado 3: Oh Hell No!   \n",
       "9997   13995                                Captain America   \n",
       "9998    2312  In the Name of the King: A Dungeon Siege Tale   \n",
       "9999  455957                                         Domino   \n",
       "\n",
       "                                                 genre  \\\n",
       "0                                          Drama,Crime   \n",
       "1                                 Comedy,Drama,Romance   \n",
       "2                                          Drama,Crime   \n",
       "3                                    Drama,History,War   \n",
       "4                                          Drama,Crime   \n",
       "...                                                ...   \n",
       "9995                          Action,Adventure,Fantasy   \n",
       "9996  Action,TV Movie,Science Fiction,Comedy,Adventure   \n",
       "9997                        Action,Science Fiction,War   \n",
       "9998                    Adventure,Fantasy,Action,Drama   \n",
       "9999                             Thriller,Action,Crime   \n",
       "\n",
       "                                               overview  \n",
       "0     Framed in the 1940s for the double murder of h...  \n",
       "1     Raj is a rich, carefree, happy-go-lucky second...  \n",
       "2     Spanning the years 1945 to 1955, a chronicle o...  \n",
       "3     The true story of how businessman Oskar Schind...  \n",
       "4     In the continuing saga of the Corleone crime f...  \n",
       "...                                                 ...  \n",
       "9995  The story follows the adventures of Aang, a yo...  \n",
       "9996  The sharks take bite out of the East Coast whe...  \n",
       "9997  During World War II, a brave, patriotic Americ...  \n",
       "9998  A man named Farmer sets out to rescue his kidn...  \n",
       "9999  Seeking justice for his partner’s murder by an...  \n",
       "\n",
       "[10000 rows x 4 columns]"
      ]
     },
     "execution_count": 13,
     "metadata": {},
     "output_type": "execute_result"
    }
   ],
   "source": [
    "movies"
   ]
  },
  {
   "cell_type": "code",
   "execution_count": 14,
   "id": "6a0f6cac-c130-4c06-af15-cb802c1d6a09",
   "metadata": {},
   "outputs": [],
   "source": [
    "movies['tags'] = movies['overview']+movies['genre']"
   ]
  },
  {
   "cell_type": "code",
   "execution_count": 15,
   "id": "62a67876-e769-41c2-896e-8d9b0b31683f",
   "metadata": {},
   "outputs": [],
   "source": [
    "new_data  = movies.drop(columns=['overview', 'genre'])"
   ]
  },
  {
   "cell_type": "code",
   "execution_count": 16,
   "id": "382d6524-dce5-472b-9105-d4d3d2344937",
   "metadata": {},
   "outputs": [
    {
     "data": {
      "text/html": [
       "<div>\n",
       "<style scoped>\n",
       "    .dataframe tbody tr th:only-of-type {\n",
       "        vertical-align: middle;\n",
       "    }\n",
       "\n",
       "    .dataframe tbody tr th {\n",
       "        vertical-align: top;\n",
       "    }\n",
       "\n",
       "    .dataframe thead th {\n",
       "        text-align: right;\n",
       "    }\n",
       "</style>\n",
       "<table border=\"1\" class=\"dataframe\">\n",
       "  <thead>\n",
       "    <tr style=\"text-align: right;\">\n",
       "      <th></th>\n",
       "      <th>id</th>\n",
       "      <th>title</th>\n",
       "      <th>tags</th>\n",
       "    </tr>\n",
       "  </thead>\n",
       "  <tbody>\n",
       "    <tr>\n",
       "      <th>0</th>\n",
       "      <td>278</td>\n",
       "      <td>The Shawshank Redemption</td>\n",
       "      <td>Framed in the 1940s for the double murder of h...</td>\n",
       "    </tr>\n",
       "    <tr>\n",
       "      <th>1</th>\n",
       "      <td>19404</td>\n",
       "      <td>Dilwale Dulhania Le Jayenge</td>\n",
       "      <td>Raj is a rich, carefree, happy-go-lucky second...</td>\n",
       "    </tr>\n",
       "    <tr>\n",
       "      <th>2</th>\n",
       "      <td>238</td>\n",
       "      <td>The Godfather</td>\n",
       "      <td>Spanning the years 1945 to 1955, a chronicle o...</td>\n",
       "    </tr>\n",
       "    <tr>\n",
       "      <th>3</th>\n",
       "      <td>424</td>\n",
       "      <td>Schindler's List</td>\n",
       "      <td>The true story of how businessman Oskar Schind...</td>\n",
       "    </tr>\n",
       "    <tr>\n",
       "      <th>4</th>\n",
       "      <td>240</td>\n",
       "      <td>The Godfather: Part II</td>\n",
       "      <td>In the continuing saga of the Corleone crime f...</td>\n",
       "    </tr>\n",
       "    <tr>\n",
       "      <th>...</th>\n",
       "      <td>...</td>\n",
       "      <td>...</td>\n",
       "      <td>...</td>\n",
       "    </tr>\n",
       "    <tr>\n",
       "      <th>9995</th>\n",
       "      <td>10196</td>\n",
       "      <td>The Last Airbender</td>\n",
       "      <td>The story follows the adventures of Aang, a yo...</td>\n",
       "    </tr>\n",
       "    <tr>\n",
       "      <th>9996</th>\n",
       "      <td>331446</td>\n",
       "      <td>Sharknado 3: Oh Hell No!</td>\n",
       "      <td>The sharks take bite out of the East Coast whe...</td>\n",
       "    </tr>\n",
       "    <tr>\n",
       "      <th>9997</th>\n",
       "      <td>13995</td>\n",
       "      <td>Captain America</td>\n",
       "      <td>During World War II, a brave, patriotic Americ...</td>\n",
       "    </tr>\n",
       "    <tr>\n",
       "      <th>9998</th>\n",
       "      <td>2312</td>\n",
       "      <td>In the Name of the King: A Dungeon Siege Tale</td>\n",
       "      <td>A man named Farmer sets out to rescue his kidn...</td>\n",
       "    </tr>\n",
       "    <tr>\n",
       "      <th>9999</th>\n",
       "      <td>455957</td>\n",
       "      <td>Domino</td>\n",
       "      <td>Seeking justice for his partner’s murder by an...</td>\n",
       "    </tr>\n",
       "  </tbody>\n",
       "</table>\n",
       "<p>10000 rows × 3 columns</p>\n",
       "</div>"
      ],
      "text/plain": [
       "          id                                          title  \\\n",
       "0        278                       The Shawshank Redemption   \n",
       "1      19404                    Dilwale Dulhania Le Jayenge   \n",
       "2        238                                  The Godfather   \n",
       "3        424                               Schindler's List   \n",
       "4        240                         The Godfather: Part II   \n",
       "...      ...                                            ...   \n",
       "9995   10196                             The Last Airbender   \n",
       "9996  331446                       Sharknado 3: Oh Hell No!   \n",
       "9997   13995                                Captain America   \n",
       "9998    2312  In the Name of the King: A Dungeon Siege Tale   \n",
       "9999  455957                                         Domino   \n",
       "\n",
       "                                                   tags  \n",
       "0     Framed in the 1940s for the double murder of h...  \n",
       "1     Raj is a rich, carefree, happy-go-lucky second...  \n",
       "2     Spanning the years 1945 to 1955, a chronicle o...  \n",
       "3     The true story of how businessman Oskar Schind...  \n",
       "4     In the continuing saga of the Corleone crime f...  \n",
       "...                                                 ...  \n",
       "9995  The story follows the adventures of Aang, a yo...  \n",
       "9996  The sharks take bite out of the East Coast whe...  \n",
       "9997  During World War II, a brave, patriotic Americ...  \n",
       "9998  A man named Farmer sets out to rescue his kidn...  \n",
       "9999  Seeking justice for his partner’s murder by an...  \n",
       "\n",
       "[10000 rows x 3 columns]"
      ]
     },
     "execution_count": 16,
     "metadata": {},
     "output_type": "execute_result"
    }
   ],
   "source": [
    "new_data"
   ]
  },
  {
   "cell_type": "code",
   "execution_count": 17,
   "id": "116f9e91-193d-4c89-838a-ea7e3ae9ad9f",
   "metadata": {},
   "outputs": [],
   "source": [
    "from sklearn.feature_extraction.text import CountVectorizer"
   ]
  },
  {
   "cell_type": "code",
   "execution_count": 18,
   "id": "0f2d5fa8-419d-4a00-95ba-c8d24e51ea23",
   "metadata": {},
   "outputs": [
    {
     "data": {
      "text/html": [
       "<style>#sk-container-id-1 {color: black;background-color: white;}#sk-container-id-1 pre{padding: 0;}#sk-container-id-1 div.sk-toggleable {background-color: white;}#sk-container-id-1 label.sk-toggleable__label {cursor: pointer;display: block;width: 100%;margin-bottom: 0;padding: 0.3em;box-sizing: border-box;text-align: center;}#sk-container-id-1 label.sk-toggleable__label-arrow:before {content: \"▸\";float: left;margin-right: 0.25em;color: #696969;}#sk-container-id-1 label.sk-toggleable__label-arrow:hover:before {color: black;}#sk-container-id-1 div.sk-estimator:hover label.sk-toggleable__label-arrow:before {color: black;}#sk-container-id-1 div.sk-toggleable__content {max-height: 0;max-width: 0;overflow: hidden;text-align: left;background-color: #f0f8ff;}#sk-container-id-1 div.sk-toggleable__content pre {margin: 0.2em;color: black;border-radius: 0.25em;background-color: #f0f8ff;}#sk-container-id-1 input.sk-toggleable__control:checked~div.sk-toggleable__content {max-height: 200px;max-width: 100%;overflow: auto;}#sk-container-id-1 input.sk-toggleable__control:checked~label.sk-toggleable__label-arrow:before {content: \"▾\";}#sk-container-id-1 div.sk-estimator input.sk-toggleable__control:checked~label.sk-toggleable__label {background-color: #d4ebff;}#sk-container-id-1 div.sk-label input.sk-toggleable__control:checked~label.sk-toggleable__label {background-color: #d4ebff;}#sk-container-id-1 input.sk-hidden--visually {border: 0;clip: rect(1px 1px 1px 1px);clip: rect(1px, 1px, 1px, 1px);height: 1px;margin: -1px;overflow: hidden;padding: 0;position: absolute;width: 1px;}#sk-container-id-1 div.sk-estimator {font-family: monospace;background-color: #f0f8ff;border: 1px dotted black;border-radius: 0.25em;box-sizing: border-box;margin-bottom: 0.5em;}#sk-container-id-1 div.sk-estimator:hover {background-color: #d4ebff;}#sk-container-id-1 div.sk-parallel-item::after {content: \"\";width: 100%;border-bottom: 1px solid gray;flex-grow: 1;}#sk-container-id-1 div.sk-label:hover label.sk-toggleable__label {background-color: #d4ebff;}#sk-container-id-1 div.sk-serial::before {content: \"\";position: absolute;border-left: 1px solid gray;box-sizing: border-box;top: 0;bottom: 0;left: 50%;z-index: 0;}#sk-container-id-1 div.sk-serial {display: flex;flex-direction: column;align-items: center;background-color: white;padding-right: 0.2em;padding-left: 0.2em;position: relative;}#sk-container-id-1 div.sk-item {position: relative;z-index: 1;}#sk-container-id-1 div.sk-parallel {display: flex;align-items: stretch;justify-content: center;background-color: white;position: relative;}#sk-container-id-1 div.sk-item::before, #sk-container-id-1 div.sk-parallel-item::before {content: \"\";position: absolute;border-left: 1px solid gray;box-sizing: border-box;top: 0;bottom: 0;left: 50%;z-index: -1;}#sk-container-id-1 div.sk-parallel-item {display: flex;flex-direction: column;z-index: 1;position: relative;background-color: white;}#sk-container-id-1 div.sk-parallel-item:first-child::after {align-self: flex-end;width: 50%;}#sk-container-id-1 div.sk-parallel-item:last-child::after {align-self: flex-start;width: 50%;}#sk-container-id-1 div.sk-parallel-item:only-child::after {width: 0;}#sk-container-id-1 div.sk-dashed-wrapped {border: 1px dashed gray;margin: 0 0.4em 0.5em 0.4em;box-sizing: border-box;padding-bottom: 0.4em;background-color: white;}#sk-container-id-1 div.sk-label label {font-family: monospace;font-weight: bold;display: inline-block;line-height: 1.2em;}#sk-container-id-1 div.sk-label-container {text-align: center;}#sk-container-id-1 div.sk-container {/* jupyter's `normalize.less` sets `[hidden] { display: none; }` but bootstrap.min.css set `[hidden] { display: none !important; }` so we also need the `!important` here to be able to override the default hidden behavior on the sphinx rendered scikit-learn.org. See: https://github.com/scikit-learn/scikit-learn/issues/21755 */display: inline-block !important;position: relative;}#sk-container-id-1 div.sk-text-repr-fallback {display: none;}</style><div id=\"sk-container-id-1\" class=\"sk-top-container\"><div class=\"sk-text-repr-fallback\"><pre>CountVectorizer(max_features=10000, stop_words=&#x27;english&#x27;)</pre><b>In a Jupyter environment, please rerun this cell to show the HTML representation or trust the notebook. <br />On GitHub, the HTML representation is unable to render, please try loading this page with nbviewer.org.</b></div><div class=\"sk-container\" hidden><div class=\"sk-item\"><div class=\"sk-estimator sk-toggleable\"><input class=\"sk-toggleable__control sk-hidden--visually\" id=\"sk-estimator-id-1\" type=\"checkbox\" checked><label for=\"sk-estimator-id-1\" class=\"sk-toggleable__label sk-toggleable__label-arrow\">CountVectorizer</label><div class=\"sk-toggleable__content\"><pre>CountVectorizer(max_features=10000, stop_words=&#x27;english&#x27;)</pre></div></div></div></div></div>"
      ],
      "text/plain": [
       "CountVectorizer(max_features=10000, stop_words='english')"
      ]
     },
     "execution_count": 18,
     "metadata": {},
     "output_type": "execute_result"
    }
   ],
   "source": [
    "cv=CountVectorizer(max_features=10000, stop_words='english')\n",
    "cv"
   ]
  },
  {
   "cell_type": "code",
   "execution_count": 19,
   "id": "1bc2458f-7012-4502-8a79-2cd77a231c7a",
   "metadata": {},
   "outputs": [],
   "source": [
    "vector=cv.fit_transform(new_data['tags'].values.astype('U')).toarray()"
   ]
  },
  {
   "cell_type": "code",
   "execution_count": 20,
   "id": "cea3bf84-6fd1-4938-892e-4b5ad73a7846",
   "metadata": {},
   "outputs": [
    {
     "data": {
      "text/plain": [
       "(10000, 10000)"
      ]
     },
     "execution_count": 20,
     "metadata": {},
     "output_type": "execute_result"
    }
   ],
   "source": [
    "vector.shape"
   ]
  },
  {
   "cell_type": "markdown",
   "id": "3c64d80d-9510-4f33-9848-6d513e0b4df4",
   "metadata": {},
   "source": [
    "# Cosine Similarity"
   ]
  },
  {
   "cell_type": "code",
   "execution_count": 22,
   "id": "496b9789-0a9f-41a8-8f53-8b42abf5ca5b",
   "metadata": {},
   "outputs": [],
   "source": [
    "from sklearn.metrics.pairwise import cosine_similarity"
   ]
  },
  {
   "cell_type": "code",
   "execution_count": 23,
   "id": "8b8b123e-06d4-4d82-976f-fb8155c1e0a8",
   "metadata": {},
   "outputs": [
    {
     "data": {
      "text/plain": [
       "array([[1.        , 0.05634362, 0.12888482, ..., 0.07559289, 0.11065667,\n",
       "        0.06388766],\n",
       "       [0.05634362, 1.        , 0.07624929, ..., 0.        , 0.03636965,\n",
       "        0.        ],\n",
       "       [0.12888482, 0.07624929, 1.        , ..., 0.02273314, 0.06655583,\n",
       "        0.08645856],\n",
       "       ...,\n",
       "       [0.07559289, 0.        , 0.02273314, ..., 1.        , 0.03253   ,\n",
       "        0.02817181],\n",
       "       [0.11065667, 0.03636965, 0.06655583, ..., 0.03253   , 1.        ,\n",
       "        0.0412393 ],\n",
       "       [0.06388766, 0.        , 0.08645856, ..., 0.02817181, 0.0412393 ,\n",
       "        1.        ]])"
      ]
     },
     "execution_count": 23,
     "metadata": {},
     "output_type": "execute_result"
    }
   ],
   "source": [
    "similarity=cosine_similarity(vector)\n",
    "similarity"
   ]
  },
  {
   "cell_type": "code",
   "execution_count": 24,
   "id": "22b6e661-574a-402e-a3a3-8bd344003f3f",
   "metadata": {},
   "outputs": [
    {
     "data": {
      "text/plain": [
       "2"
      ]
     },
     "execution_count": 24,
     "metadata": {},
     "output_type": "execute_result"
    }
   ],
   "source": [
    "new_data[new_data['title']==\"The Godfather\"].index[0]"
   ]
  },
  {
   "cell_type": "code",
   "execution_count": 25,
   "id": "e7a764db-4d8b-4f17-a4f4-89c4a32dac8e",
   "metadata": {},
   "outputs": [
    {
     "name": "stdout",
     "output_type": "stream",
     "text": [
      "The Godfather\n",
      "The Godfather: Part II\n",
      "Blood Ties\n",
      "Joker\n",
      "Bomb City\n"
     ]
    }
   ],
   "source": [
    "distance = sorted(list(enumerate(similarity[2])), reverse=True, key=lambda vector:vector[1])\n",
    "for i in distance[0:5]:\n",
    "    print(new_data.iloc[i[0]].title)"
   ]
  },
  {
   "cell_type": "code",
   "execution_count": 26,
   "id": "c1ba28eb-ef18-4dd7-972e-4f4ba1790ab8",
   "metadata": {},
   "outputs": [],
   "source": [
    "def recommend(movies):\n",
    "    index=new_data[new_data['title']==movies].index[0]\n",
    "    distance = sorted(list(enumerate(similarity[index])), reverse=True, key=lambda vector:vector[1])\n",
    "    for i in distance[0:5]:\n",
    "        print(new_data.iloc[i[0]].title)"
   ]
  },
  {
   "cell_type": "code",
   "execution_count": 27,
   "id": "f3a9f6c3-286a-460c-b4af-03730ba7a999",
   "metadata": {},
   "outputs": [
    {
     "name": "stdout",
     "output_type": "stream",
     "text": [
      "Dilwale Dulhania Le Jayenge\n",
      "A Passage to India\n",
      "The Manual of Love\n",
      "The Cameraman\n",
      "The Graduate\n"
     ]
    }
   ],
   "source": [
    "recommend(\"Dilwale Dulhania Le Jayenge\")"
   ]
  },
  {
   "cell_type": "code",
   "execution_count": 28,
   "id": "d44cb913-510c-4a98-ad86-c9edef3e7313",
   "metadata": {},
   "outputs": [],
   "source": [
    "import pickle"
   ]
  },
  {
   "cell_type": "code",
   "execution_count": 29,
   "id": "65a28752-059a-46c6-bb4f-b080cfde21d6",
   "metadata": {},
   "outputs": [],
   "source": [
    "pickle.dump(new_data, open('movies_list.pkl', 'wb'))"
   ]
  },
  {
   "cell_type": "code",
   "execution_count": 30,
   "id": "6daccbf8-f06b-44c6-ae69-c03b0982e8f4",
   "metadata": {},
   "outputs": [],
   "source": [
    "pickle.dump(similarity, open('similarity.pkl', 'wb'))"
   ]
  },
  {
   "cell_type": "code",
   "execution_count": 31,
   "id": "56d52859-4b3e-49c5-bf40-98248519dd66",
   "metadata": {},
   "outputs": [
    {
     "data": {
      "text/html": [
       "<div>\n",
       "<style scoped>\n",
       "    .dataframe tbody tr th:only-of-type {\n",
       "        vertical-align: middle;\n",
       "    }\n",
       "\n",
       "    .dataframe tbody tr th {\n",
       "        vertical-align: top;\n",
       "    }\n",
       "\n",
       "    .dataframe thead th {\n",
       "        text-align: right;\n",
       "    }\n",
       "</style>\n",
       "<table border=\"1\" class=\"dataframe\">\n",
       "  <thead>\n",
       "    <tr style=\"text-align: right;\">\n",
       "      <th></th>\n",
       "      <th>id</th>\n",
       "      <th>title</th>\n",
       "      <th>tags</th>\n",
       "    </tr>\n",
       "  </thead>\n",
       "  <tbody>\n",
       "    <tr>\n",
       "      <th>0</th>\n",
       "      <td>278</td>\n",
       "      <td>The Shawshank Redemption</td>\n",
       "      <td>Framed in the 1940s for the double murder of h...</td>\n",
       "    </tr>\n",
       "    <tr>\n",
       "      <th>1</th>\n",
       "      <td>19404</td>\n",
       "      <td>Dilwale Dulhania Le Jayenge</td>\n",
       "      <td>Raj is a rich, carefree, happy-go-lucky second...</td>\n",
       "    </tr>\n",
       "    <tr>\n",
       "      <th>2</th>\n",
       "      <td>238</td>\n",
       "      <td>The Godfather</td>\n",
       "      <td>Spanning the years 1945 to 1955, a chronicle o...</td>\n",
       "    </tr>\n",
       "    <tr>\n",
       "      <th>3</th>\n",
       "      <td>424</td>\n",
       "      <td>Schindler's List</td>\n",
       "      <td>The true story of how businessman Oskar Schind...</td>\n",
       "    </tr>\n",
       "    <tr>\n",
       "      <th>4</th>\n",
       "      <td>240</td>\n",
       "      <td>The Godfather: Part II</td>\n",
       "      <td>In the continuing saga of the Corleone crime f...</td>\n",
       "    </tr>\n",
       "    <tr>\n",
       "      <th>...</th>\n",
       "      <td>...</td>\n",
       "      <td>...</td>\n",
       "      <td>...</td>\n",
       "    </tr>\n",
       "    <tr>\n",
       "      <th>9995</th>\n",
       "      <td>10196</td>\n",
       "      <td>The Last Airbender</td>\n",
       "      <td>The story follows the adventures of Aang, a yo...</td>\n",
       "    </tr>\n",
       "    <tr>\n",
       "      <th>9996</th>\n",
       "      <td>331446</td>\n",
       "      <td>Sharknado 3: Oh Hell No!</td>\n",
       "      <td>The sharks take bite out of the East Coast whe...</td>\n",
       "    </tr>\n",
       "    <tr>\n",
       "      <th>9997</th>\n",
       "      <td>13995</td>\n",
       "      <td>Captain America</td>\n",
       "      <td>During World War II, a brave, patriotic Americ...</td>\n",
       "    </tr>\n",
       "    <tr>\n",
       "      <th>9998</th>\n",
       "      <td>2312</td>\n",
       "      <td>In the Name of the King: A Dungeon Siege Tale</td>\n",
       "      <td>A man named Farmer sets out to rescue his kidn...</td>\n",
       "    </tr>\n",
       "    <tr>\n",
       "      <th>9999</th>\n",
       "      <td>455957</td>\n",
       "      <td>Domino</td>\n",
       "      <td>Seeking justice for his partner’s murder by an...</td>\n",
       "    </tr>\n",
       "  </tbody>\n",
       "</table>\n",
       "<p>10000 rows × 3 columns</p>\n",
       "</div>"
      ],
      "text/plain": [
       "          id                                          title  \\\n",
       "0        278                       The Shawshank Redemption   \n",
       "1      19404                    Dilwale Dulhania Le Jayenge   \n",
       "2        238                                  The Godfather   \n",
       "3        424                               Schindler's List   \n",
       "4        240                         The Godfather: Part II   \n",
       "...      ...                                            ...   \n",
       "9995   10196                             The Last Airbender   \n",
       "9996  331446                       Sharknado 3: Oh Hell No!   \n",
       "9997   13995                                Captain America   \n",
       "9998    2312  In the Name of the King: A Dungeon Siege Tale   \n",
       "9999  455957                                         Domino   \n",
       "\n",
       "                                                   tags  \n",
       "0     Framed in the 1940s for the double murder of h...  \n",
       "1     Raj is a rich, carefree, happy-go-lucky second...  \n",
       "2     Spanning the years 1945 to 1955, a chronicle o...  \n",
       "3     The true story of how businessman Oskar Schind...  \n",
       "4     In the continuing saga of the Corleone crime f...  \n",
       "...                                                 ...  \n",
       "9995  The story follows the adventures of Aang, a yo...  \n",
       "9996  The sharks take bite out of the East Coast whe...  \n",
       "9997  During World War II, a brave, patriotic Americ...  \n",
       "9998  A man named Farmer sets out to rescue his kidn...  \n",
       "9999  Seeking justice for his partner’s murder by an...  \n",
       "\n",
       "[10000 rows x 3 columns]"
      ]
     },
     "execution_count": 31,
     "metadata": {},
     "output_type": "execute_result"
    }
   ],
   "source": [
    "pickle.load(open('movies_list.pkl', 'rb'))"
   ]
  },
  {
   "cell_type": "code",
   "execution_count": 32,
   "id": "ab324a77-49b3-427c-be0d-74a02e14c8d6",
   "metadata": {},
   "outputs": [],
   "source": [
    "details=data[['id','title','genre','overview']]"
   ]
  },
  {
   "cell_type": "code",
   "execution_count": 33,
   "id": "9802f6d5-23cd-42f7-9e8a-c8b99d48a407",
   "metadata": {},
   "outputs": [],
   "source": [
    "details= pd.DataFrame(data=details)"
   ]
  },
  {
   "cell_type": "code",
   "execution_count": 34,
   "id": "f48f1f0b-91f8-4def-83d3-1ab34fe15ee0",
   "metadata": {},
   "outputs": [
    {
     "data": {
      "text/html": [
       "<div>\n",
       "<style scoped>\n",
       "    .dataframe tbody tr th:only-of-type {\n",
       "        vertical-align: middle;\n",
       "    }\n",
       "\n",
       "    .dataframe tbody tr th {\n",
       "        vertical-align: top;\n",
       "    }\n",
       "\n",
       "    .dataframe thead th {\n",
       "        text-align: right;\n",
       "    }\n",
       "</style>\n",
       "<table border=\"1\" class=\"dataframe\">\n",
       "  <thead>\n",
       "    <tr style=\"text-align: right;\">\n",
       "      <th></th>\n",
       "      <th>id</th>\n",
       "      <th>title</th>\n",
       "      <th>genre</th>\n",
       "      <th>overview</th>\n",
       "    </tr>\n",
       "  </thead>\n",
       "  <tbody>\n",
       "    <tr>\n",
       "      <th>0</th>\n",
       "      <td>278</td>\n",
       "      <td>The Shawshank Redemption</td>\n",
       "      <td>Drama,Crime</td>\n",
       "      <td>Framed in the 1940s for the double murder of h...</td>\n",
       "    </tr>\n",
       "    <tr>\n",
       "      <th>1</th>\n",
       "      <td>19404</td>\n",
       "      <td>Dilwale Dulhania Le Jayenge</td>\n",
       "      <td>Comedy,Drama,Romance</td>\n",
       "      <td>Raj is a rich, carefree, happy-go-lucky second...</td>\n",
       "    </tr>\n",
       "    <tr>\n",
       "      <th>2</th>\n",
       "      <td>238</td>\n",
       "      <td>The Godfather</td>\n",
       "      <td>Drama,Crime</td>\n",
       "      <td>Spanning the years 1945 to 1955, a chronicle o...</td>\n",
       "    </tr>\n",
       "    <tr>\n",
       "      <th>3</th>\n",
       "      <td>424</td>\n",
       "      <td>Schindler's List</td>\n",
       "      <td>Drama,History,War</td>\n",
       "      <td>The true story of how businessman Oskar Schind...</td>\n",
       "    </tr>\n",
       "    <tr>\n",
       "      <th>4</th>\n",
       "      <td>240</td>\n",
       "      <td>The Godfather: Part II</td>\n",
       "      <td>Drama,Crime</td>\n",
       "      <td>In the continuing saga of the Corleone crime f...</td>\n",
       "    </tr>\n",
       "    <tr>\n",
       "      <th>...</th>\n",
       "      <td>...</td>\n",
       "      <td>...</td>\n",
       "      <td>...</td>\n",
       "      <td>...</td>\n",
       "    </tr>\n",
       "    <tr>\n",
       "      <th>9995</th>\n",
       "      <td>10196</td>\n",
       "      <td>The Last Airbender</td>\n",
       "      <td>Action,Adventure,Fantasy</td>\n",
       "      <td>The story follows the adventures of Aang, a yo...</td>\n",
       "    </tr>\n",
       "    <tr>\n",
       "      <th>9996</th>\n",
       "      <td>331446</td>\n",
       "      <td>Sharknado 3: Oh Hell No!</td>\n",
       "      <td>Action,TV Movie,Science Fiction,Comedy,Adventure</td>\n",
       "      <td>The sharks take bite out of the East Coast whe...</td>\n",
       "    </tr>\n",
       "    <tr>\n",
       "      <th>9997</th>\n",
       "      <td>13995</td>\n",
       "      <td>Captain America</td>\n",
       "      <td>Action,Science Fiction,War</td>\n",
       "      <td>During World War II, a brave, patriotic Americ...</td>\n",
       "    </tr>\n",
       "    <tr>\n",
       "      <th>9998</th>\n",
       "      <td>2312</td>\n",
       "      <td>In the Name of the King: A Dungeon Siege Tale</td>\n",
       "      <td>Adventure,Fantasy,Action,Drama</td>\n",
       "      <td>A man named Farmer sets out to rescue his kidn...</td>\n",
       "    </tr>\n",
       "    <tr>\n",
       "      <th>9999</th>\n",
       "      <td>455957</td>\n",
       "      <td>Domino</td>\n",
       "      <td>Thriller,Action,Crime</td>\n",
       "      <td>Seeking justice for his partner’s murder by an...</td>\n",
       "    </tr>\n",
       "  </tbody>\n",
       "</table>\n",
       "<p>10000 rows × 4 columns</p>\n",
       "</div>"
      ],
      "text/plain": [
       "          id                                          title  \\\n",
       "0        278                       The Shawshank Redemption   \n",
       "1      19404                    Dilwale Dulhania Le Jayenge   \n",
       "2        238                                  The Godfather   \n",
       "3        424                               Schindler's List   \n",
       "4        240                         The Godfather: Part II   \n",
       "...      ...                                            ...   \n",
       "9995   10196                             The Last Airbender   \n",
       "9996  331446                       Sharknado 3: Oh Hell No!   \n",
       "9997   13995                                Captain America   \n",
       "9998    2312  In the Name of the King: A Dungeon Siege Tale   \n",
       "9999  455957                                         Domino   \n",
       "\n",
       "                                                 genre  \\\n",
       "0                                          Drama,Crime   \n",
       "1                                 Comedy,Drama,Romance   \n",
       "2                                          Drama,Crime   \n",
       "3                                    Drama,History,War   \n",
       "4                                          Drama,Crime   \n",
       "...                                                ...   \n",
       "9995                          Action,Adventure,Fantasy   \n",
       "9996  Action,TV Movie,Science Fiction,Comedy,Adventure   \n",
       "9997                        Action,Science Fiction,War   \n",
       "9998                    Adventure,Fantasy,Action,Drama   \n",
       "9999                             Thriller,Action,Crime   \n",
       "\n",
       "                                               overview  \n",
       "0     Framed in the 1940s for the double murder of h...  \n",
       "1     Raj is a rich, carefree, happy-go-lucky second...  \n",
       "2     Spanning the years 1945 to 1955, a chronicle o...  \n",
       "3     The true story of how businessman Oskar Schind...  \n",
       "4     In the continuing saga of the Corleone crime f...  \n",
       "...                                                 ...  \n",
       "9995  The story follows the adventures of Aang, a yo...  \n",
       "9996  The sharks take bite out of the East Coast whe...  \n",
       "9997  During World War II, a brave, patriotic Americ...  \n",
       "9998  A man named Farmer sets out to rescue his kidn...  \n",
       "9999  Seeking justice for his partner’s murder by an...  \n",
       "\n",
       "[10000 rows x 4 columns]"
      ]
     },
     "execution_count": 34,
     "metadata": {},
     "output_type": "execute_result"
    }
   ],
   "source": [
    "details"
   ]
  },
  {
   "cell_type": "code",
   "execution_count": 35,
   "id": "5f5c0515-cc17-4134-a541-c58210004953",
   "metadata": {},
   "outputs": [],
   "source": [
    "pickle.dump(details, open('detailsview.pkl', 'wb'))"
   ]
  },
  {
   "cell_type": "code",
   "execution_count": 36,
   "id": "c50388b8-6f50-4886-980b-3f9540f5195c",
   "metadata": {},
   "outputs": [
    {
     "data": {
      "text/plain": [
       "0       Framed in the 1940s for the double murder of h...\n",
       "1       Raj is a rich, carefree, happy-go-lucky second...\n",
       "2       Spanning the years 1945 to 1955, a chronicle o...\n",
       "3       The true story of how businessman Oskar Schind...\n",
       "4       In the continuing saga of the Corleone crime f...\n",
       "                              ...                        \n",
       "9995    The story follows the adventures of Aang, a yo...\n",
       "9996    The sharks take bite out of the East Coast whe...\n",
       "9997    During World War II, a brave, patriotic Americ...\n",
       "9998    A man named Farmer sets out to rescue his kidn...\n",
       "9999    Seeking justice for his partner’s murder by an...\n",
       "Name: overview, Length: 10000, dtype: object"
      ]
     },
     "execution_count": 36,
     "metadata": {},
     "output_type": "execute_result"
    }
   ],
   "source": [
    "details['overview']"
   ]
  },
  {
   "cell_type": "code",
   "execution_count": null,
   "id": "fc06d920-6ca0-4afa-9dae-6477b0ac58d3",
   "metadata": {},
   "outputs": [],
   "source": []
  }
 ],
 "metadata": {
  "kernelspec": {
   "display_name": "Python 3 (ipykernel)",
   "language": "python",
   "name": "python3"
  },
  "language_info": {
   "codemirror_mode": {
    "name": "ipython",
    "version": 3
   },
   "file_extension": ".py",
   "mimetype": "text/x-python",
   "name": "python",
   "nbconvert_exporter": "python",
   "pygments_lexer": "ipython3",
   "version": "3.11.7"
  }
 },
 "nbformat": 4,
 "nbformat_minor": 5
}
